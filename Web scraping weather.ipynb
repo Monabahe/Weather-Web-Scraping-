{
 "cells": [
  {
   "cell_type": "markdown",
   "id": "9abea86d",
   "metadata": {},
   "source": [
    "#                                Scraping 10 day Weather data"
   ]
  },
  {
   "cell_type": "code",
   "execution_count": 2,
   "id": "1d3fe6ea",
   "metadata": {},
   "outputs": [],
   "source": [
    "from bs4 import BeautifulSoup\n",
    "import requests"
   ]
  },
  {
   "cell_type": "markdown",
   "id": "469ec552",
   "metadata": {},
   "source": [
    "**Getting the url**"
   ]
  },
  {
   "cell_type": "code",
   "execution_count": 3,
   "id": "9d08da69",
   "metadata": {
    "scrolled": false
   },
   "outputs": [],
   "source": [
    "url = \"https://weather.com/en-IN/weather/tenday/l/a5f0fe2ff9a40acc9ce62d67cd99439a71cde78cc0c5c1fbf6da052bef4cdba9\"\n",
    "page = requests.get(url)\n",
    "soup = BeautifulSoup(page.text,\"html.parser\")\n"
   ]
  },
  {
   "cell_type": "markdown",
   "id": "9c4c26a1",
   "metadata": {},
   "source": [
    "# Extracting the date and day"
   ]
  },
  {
   "cell_type": "code",
   "execution_count": 9,
   "id": "12509908",
   "metadata": {},
   "outputs": [
    {
     "name": "stdout",
     "output_type": "stream",
     "text": [
      "['Fri', 'Sat', 'Sun', 'Mon', 'Tue', 'Wed', 'Thu', 'Fri', 'Sat', 'Sun', 'Mon', 'Tue', 'Wed', 'Thu']\n",
      "['29', '30', '31', '01', '02', '03', '04', '05', '06', '07', '08', '09', '10', '11']\n",
      "14\n"
     ]
    }
   ],
   "source": [
    "s = soup.find_all(\"h3\")[2:]#, class_ = \"DaypartDetails--DayPartDetail--2XOOV DaypartDetails--enablePreviousBorder--2B1p5 Disclosure--themeList--1Dz21 Disclosure--disableBorder--3Np63\")\n",
    "l = []\n",
    "for i in s:\n",
    "    l.append(i.text)\n",
    "days = []\n",
    "dates = []\n",
    " \n",
    "# Filtering out elements containing 'Day' or 'Night' and printing only the day and date\n",
    "for item in l:\n",
    "    if 'Day' in item or 'Night' in item:\n",
    "        continue\n",
    "    else:\n",
    "        day,date = item.split(' ')\n",
    "        days.append(day)\n",
    "        dates.append(date)\n",
    "print(days)\n",
    "print(dates)   \n",
    "\n",
    "#checking the length for perfect range\n",
    "print(len(days))"
   ]
  },
  {
   "cell_type": "markdown",
   "id": "a15726dd",
   "metadata": {},
   "source": [
    "# Extracting the high and low temperature"
   ]
  },
  {
   "cell_type": "code",
   "execution_count": 11,
   "id": "4fe39a15",
   "metadata": {},
   "outputs": [
    {
     "name": "stdout",
     "output_type": "stream",
     "text": [
      "['25°', '22°', '21°', '20°', '20°', '21°', '21°', '21°', '20°', '20°', '20°', '21°', '22°', '23°']\n",
      "['36°', '35°', '34°', '33°', '33°', '35°', '36°', '35°', '34°', '34°', '35°', '35°', '36°', '36°']\n"
     ]
    }
   ],
   "source": [
    "# for high temperature\n",
    "high_temp = soup.find_all(\"span\", class_ = \"DetailsSummary--highTempValue--3PjlX\")[1:]\n",
    "high = []\n",
    "for i in high_temp:\n",
    "    high.append(i.text)\n",
    "\n",
    "#for low temperature\n",
    "low_temp= soup.find_all(\"span\", class_ = \"DetailsSummary--lowTempValue--2tesQ\")[1:]\n",
    "low = []\n",
    "for j in low_temp:\n",
    "    low.append(j.text)\n",
    "    \n",
    "print(low)\n",
    "print(high)\n",
    "\n"
   ]
  },
  {
   "cell_type": "markdown",
   "id": "15e9d87c",
   "metadata": {},
   "source": [
    "# Weather condition"
   ]
  },
  {
   "cell_type": "code",
   "execution_count": 12,
   "id": "20ee325a",
   "metadata": {},
   "outputs": [
    {
     "name": "stdout",
     "output_type": "stream",
     "text": [
      "['Cloudy', 'Partly Cloudy', 'Mostly Sunny', 'Partly Cloudy', 'Mostly Sunny', 'Mostly Sunny', 'Partly Cloudy', 'Partly Cloudy', 'Partly Cloudy', 'Mostly Sunny', 'Mostly Sunny', 'Mostly Sunny', 'Partly Cloudy', 'Partly Cloudy']\n"
     ]
    }
   ],
   "source": [
    "w = soup.find_all(\"span\", class_ = \"DetailsSummary--extendedData--307Ax\")[1:]\n",
    "weather = []\n",
    "for i in w:\n",
    "    weather.append(i.text)\n",
    "    \n",
    "print(weather)\n"
   ]
  },
  {
   "cell_type": "markdown",
   "id": "9da565fc",
   "metadata": {},
   "source": [
    "# Rain percentage"
   ]
  },
  {
   "cell_type": "code",
   "execution_count": 13,
   "id": "4e052777",
   "metadata": {},
   "outputs": [
    {
     "name": "stdout",
     "output_type": "stream",
     "text": [
      "['5%', '11%', '5%', '1%', '1%', '0%', '0%', '2%', '5%', '0%', '0%', '0%', '5%', '2%']\n"
     ]
    }
   ],
   "source": [
    "r = soup.find_all(\"div\", class_ = \"DetailsSummary--precip--1a98O\")[1:]\n",
    "rain = []\n",
    "for i in r:\n",
    "    rain.append(i.text.split(\"Rain\")[0:][1])\n",
    "    \n",
    "print(rain)\n",
    "\n",
    "    "
   ]
  },
  {
   "cell_type": "markdown",
   "id": "2642bb14",
   "metadata": {},
   "source": [
    "# Wind speed"
   ]
  },
  {
   "cell_type": "code",
   "execution_count": 14,
   "id": "f7a29ad2",
   "metadata": {},
   "outputs": [
    {
     "name": "stdout",
     "output_type": "stream",
     "text": [
      "['WNW', 'NW', 'WNW', 'WNW', 'WNW', 'WNW', 'WNW', 'WNW', 'WNW', 'WNW', 'NW', 'WNW', 'WNW', 'W']\n",
      "['11 km/h', '13 km/h', '16 km/h', '20 km/h', '19 km/h', '14 km/h', '13 km/h', '14 km/h', '14 km/h', '15 km/h', '16 km/h', '16 km/h', '12 km/h', '13 km/h']\n"
     ]
    }
   ],
   "source": [
    "wind = soup.find_all(\"span\", class_ = \"Wind--windWrapper--3Ly7c undefined\")[1:]\n",
    "w = []\n",
    "wind_speed = []\n",
    "wind_direction = []\n",
    "\n",
    "for i in wind:\n",
    "    w.append(i.text.split(\" \"))\n",
    "    \n",
    "# for wind direction\n",
    "for j in w:\n",
    "    wind_direction.append(j[0:][0])\n",
    "\n",
    "print(wind_direction)\n",
    "\n",
    "# for wind speed\n",
    "for k in w:\n",
    "    wind_speed.append(k[0:][1])\n",
    "wind_speed_ = []\n",
    "for l in wind_speed:\n",
    "    wind_speed_.append(l.replace(\"\\xa0\",\" \"))\n",
    "\n",
    "print(wind_speed_)\n",
    "\n",
    "    \n",
    "    \n"
   ]
  },
  {
   "cell_type": "markdown",
   "id": "efab543e",
   "metadata": {},
   "source": [
    "# Creating a dataframe"
   ]
  },
  {
   "cell_type": "code",
   "execution_count": 15,
   "id": "2913f09b",
   "metadata": {},
   "outputs": [],
   "source": [
    "import pandas as pd\n",
    "df = pd.DataFrame({\"Dates\": dates, \"Day_name\": days, \"Day High Temperature\": high, \"Day Low Temperature\": low,\n",
    "                   \"Weather_Condition\": weather, \"Rain_Percentage\": rain, \"Wind_Speed\": wind_speed_, \"Wind_Direction\": wind_direction})"
   ]
  },
  {
   "cell_type": "code",
   "execution_count": 17,
   "id": "1b28c523",
   "metadata": {},
   "outputs": [],
   "source": [
    "df[\"Dates\"][0:6] = pd.to_datetime(\"2024-03-\"+ df[\"Dates\"][0:6])\n",
    "df[\"Dates\"][6:] = pd.to_datetime(\"2024-04-\"+ df[\"Dates\"][6:])"
   ]
  },
  {
   "cell_type": "code",
   "execution_count": 19,
   "id": "ab4a0230",
   "metadata": {},
   "outputs": [
    {
     "data": {
      "text/html": [
       "<div>\n",
       "<style scoped>\n",
       "    .dataframe tbody tr th:only-of-type {\n",
       "        vertical-align: middle;\n",
       "    }\n",
       "\n",
       "    .dataframe tbody tr th {\n",
       "        vertical-align: top;\n",
       "    }\n",
       "\n",
       "    .dataframe thead th {\n",
       "        text-align: right;\n",
       "    }\n",
       "</style>\n",
       "<table border=\"1\" class=\"dataframe\">\n",
       "  <thead>\n",
       "    <tr style=\"text-align: right;\">\n",
       "      <th></th>\n",
       "      <th>Dates</th>\n",
       "      <th>Day_name</th>\n",
       "      <th>Day High Temperature</th>\n",
       "      <th>Day Low Temperature</th>\n",
       "      <th>Weather_Condition</th>\n",
       "      <th>Rain_Percentage</th>\n",
       "      <th>Wind_Speed</th>\n",
       "      <th>Wind_Direction</th>\n",
       "    </tr>\n",
       "  </thead>\n",
       "  <tbody>\n",
       "    <tr>\n",
       "      <th>0</th>\n",
       "      <td>2024-03-29 00:00:00</td>\n",
       "      <td>Fri</td>\n",
       "      <td>36°</td>\n",
       "      <td>25°</td>\n",
       "      <td>Cloudy</td>\n",
       "      <td>5%</td>\n",
       "      <td>11 km/h</td>\n",
       "      <td>WNW</td>\n",
       "    </tr>\n",
       "    <tr>\n",
       "      <th>1</th>\n",
       "      <td>2024-03-30 00:00:00</td>\n",
       "      <td>Sat</td>\n",
       "      <td>35°</td>\n",
       "      <td>22°</td>\n",
       "      <td>Partly Cloudy</td>\n",
       "      <td>11%</td>\n",
       "      <td>13 km/h</td>\n",
       "      <td>NW</td>\n",
       "    </tr>\n",
       "    <tr>\n",
       "      <th>2</th>\n",
       "      <td>2024-03-31 00:00:00</td>\n",
       "      <td>Sun</td>\n",
       "      <td>34°</td>\n",
       "      <td>21°</td>\n",
       "      <td>Mostly Sunny</td>\n",
       "      <td>5%</td>\n",
       "      <td>16 km/h</td>\n",
       "      <td>WNW</td>\n",
       "    </tr>\n",
       "    <tr>\n",
       "      <th>3</th>\n",
       "      <td>2024-03-01 00:00:00</td>\n",
       "      <td>Mon</td>\n",
       "      <td>33°</td>\n",
       "      <td>20°</td>\n",
       "      <td>Partly Cloudy</td>\n",
       "      <td>1%</td>\n",
       "      <td>20 km/h</td>\n",
       "      <td>WNW</td>\n",
       "    </tr>\n",
       "    <tr>\n",
       "      <th>4</th>\n",
       "      <td>2024-03-02 00:00:00</td>\n",
       "      <td>Tue</td>\n",
       "      <td>33°</td>\n",
       "      <td>20°</td>\n",
       "      <td>Mostly Sunny</td>\n",
       "      <td>1%</td>\n",
       "      <td>19 km/h</td>\n",
       "      <td>WNW</td>\n",
       "    </tr>\n",
       "    <tr>\n",
       "      <th>5</th>\n",
       "      <td>2024-03-03 00:00:00</td>\n",
       "      <td>Wed</td>\n",
       "      <td>35°</td>\n",
       "      <td>21°</td>\n",
       "      <td>Mostly Sunny</td>\n",
       "      <td>0%</td>\n",
       "      <td>14 km/h</td>\n",
       "      <td>WNW</td>\n",
       "    </tr>\n",
       "    <tr>\n",
       "      <th>6</th>\n",
       "      <td>2024-04-04 00:00:00</td>\n",
       "      <td>Thu</td>\n",
       "      <td>36°</td>\n",
       "      <td>21°</td>\n",
       "      <td>Partly Cloudy</td>\n",
       "      <td>0%</td>\n",
       "      <td>13 km/h</td>\n",
       "      <td>WNW</td>\n",
       "    </tr>\n",
       "    <tr>\n",
       "      <th>7</th>\n",
       "      <td>2024-04-05 00:00:00</td>\n",
       "      <td>Fri</td>\n",
       "      <td>35°</td>\n",
       "      <td>21°</td>\n",
       "      <td>Partly Cloudy</td>\n",
       "      <td>2%</td>\n",
       "      <td>14 km/h</td>\n",
       "      <td>WNW</td>\n",
       "    </tr>\n",
       "    <tr>\n",
       "      <th>8</th>\n",
       "      <td>2024-04-06 00:00:00</td>\n",
       "      <td>Sat</td>\n",
       "      <td>34°</td>\n",
       "      <td>20°</td>\n",
       "      <td>Partly Cloudy</td>\n",
       "      <td>5%</td>\n",
       "      <td>14 km/h</td>\n",
       "      <td>WNW</td>\n",
       "    </tr>\n",
       "    <tr>\n",
       "      <th>9</th>\n",
       "      <td>2024-04-07 00:00:00</td>\n",
       "      <td>Sun</td>\n",
       "      <td>34°</td>\n",
       "      <td>20°</td>\n",
       "      <td>Mostly Sunny</td>\n",
       "      <td>0%</td>\n",
       "      <td>15 km/h</td>\n",
       "      <td>WNW</td>\n",
       "    </tr>\n",
       "    <tr>\n",
       "      <th>10</th>\n",
       "      <td>2024-04-08 00:00:00</td>\n",
       "      <td>Mon</td>\n",
       "      <td>35°</td>\n",
       "      <td>20°</td>\n",
       "      <td>Mostly Sunny</td>\n",
       "      <td>0%</td>\n",
       "      <td>16 km/h</td>\n",
       "      <td>NW</td>\n",
       "    </tr>\n",
       "  </tbody>\n",
       "</table>\n",
       "</div>"
      ],
      "text/plain": [
       "                  Dates Day_name Day High Temperature Day Low Temperature  \\\n",
       "0   2024-03-29 00:00:00      Fri                  36°                 25°   \n",
       "1   2024-03-30 00:00:00      Sat                  35°                 22°   \n",
       "2   2024-03-31 00:00:00      Sun                  34°                 21°   \n",
       "3   2024-03-01 00:00:00      Mon                  33°                 20°   \n",
       "4   2024-03-02 00:00:00      Tue                  33°                 20°   \n",
       "5   2024-03-03 00:00:00      Wed                  35°                 21°   \n",
       "6   2024-04-04 00:00:00      Thu                  36°                 21°   \n",
       "7   2024-04-05 00:00:00      Fri                  35°                 21°   \n",
       "8   2024-04-06 00:00:00      Sat                  34°                 20°   \n",
       "9   2024-04-07 00:00:00      Sun                  34°                 20°   \n",
       "10  2024-04-08 00:00:00      Mon                  35°                 20°   \n",
       "\n",
       "   Weather_Condition Rain_Percentage Wind_Speed Wind_Direction  \n",
       "0             Cloudy              5%    11 km/h            WNW  \n",
       "1      Partly Cloudy             11%    13 km/h             NW  \n",
       "2       Mostly Sunny              5%    16 km/h            WNW  \n",
       "3      Partly Cloudy              1%    20 km/h            WNW  \n",
       "4       Mostly Sunny              1%    19 km/h            WNW  \n",
       "5       Mostly Sunny              0%    14 km/h            WNW  \n",
       "6      Partly Cloudy              0%    13 km/h            WNW  \n",
       "7      Partly Cloudy              2%    14 km/h            WNW  \n",
       "8      Partly Cloudy              5%    14 km/h            WNW  \n",
       "9       Mostly Sunny              0%    15 km/h            WNW  \n",
       "10      Mostly Sunny              0%    16 km/h             NW  "
      ]
     },
     "execution_count": 19,
     "metadata": {},
     "output_type": "execute_result"
    }
   ],
   "source": [
    "weather_data = df[:11]"
   ]
  },
  {
   "cell_type": "markdown",
   "id": "e539621e",
   "metadata": {},
   "source": [
    "# for missing data and error handling"
   ]
  },
  {
   "cell_type": "code",
   "execution_count": 20,
   "id": "52f7cc35",
   "metadata": {},
   "outputs": [
    {
     "data": {
      "text/plain": [
       "Dates                   0\n",
       "Day_name                0\n",
       "Day High Temperature    0\n",
       "Day Low Temperature     0\n",
       "Weather_Condition       0\n",
       "Rain_Percentage         0\n",
       "Wind_Speed              0\n",
       "Wind_Direction          0\n",
       "dtype: int64"
      ]
     },
     "execution_count": 20,
     "metadata": {},
     "output_type": "execute_result"
    }
   ],
   "source": [
    "df.isnull().sum()"
   ]
  },
  {
   "cell_type": "code",
   "execution_count": 22,
   "id": "29830f8b",
   "metadata": {},
   "outputs": [],
   "source": [
    "mean_ = weather_data.mean()\n",
    "weather_data.fillna(mean_, inplace=True)"
   ]
  },
  {
   "cell_type": "markdown",
   "id": "a1b21cb1",
   "metadata": {},
   "source": [
    "# saving the dataframe into a CSV file"
   ]
  },
  {
   "cell_type": "code",
   "execution_count": 23,
   "id": "35ca4360",
   "metadata": {},
   "outputs": [],
   "source": [
    "weather_data.to_csv(r\"C:\\Users\\CW\\OneDrive\\Desktop\\MASAI\\ASSIGNMENT\\python\\10dayweather.csv\",index = False)"
   ]
  }
 ],
 "metadata": {
  "kernelspec": {
   "display_name": "Python 3 (ipykernel)",
   "language": "python",
   "name": "python3"
  },
  "language_info": {
   "codemirror_mode": {
    "name": "ipython",
    "version": 3
   },
   "file_extension": ".py",
   "mimetype": "text/x-python",
   "name": "python",
   "nbconvert_exporter": "python",
   "pygments_lexer": "ipython3",
   "version": "3.11.5"
  }
 },
 "nbformat": 4,
 "nbformat_minor": 5
}
